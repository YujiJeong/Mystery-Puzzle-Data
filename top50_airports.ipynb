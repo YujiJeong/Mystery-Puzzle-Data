{
 "cells": [
  {
   "cell_type": "code",
   "execution_count": 1,
   "metadata": {},
   "outputs": [],
   "source": [
    "# Importing libraries\n",
    "import os\n",
    "import pandas as pd\n",
    "import matplotlib.pyplot as plt"
   ]
  },
  {
   "cell_type": "code",
   "execution_count": 2,
   "metadata": {},
   "outputs": [],
   "source": [
    "cwd = os.getcwd()\n",
    "if cwd != '/Users/yujijeong/Desktop/Hopper':\n",
    "    os.chdir('/Users/yujijeong/Desktop/Hopper')"
   ]
  },
  {
   "cell_type": "code",
   "execution_count": 3,
   "metadata": {},
   "outputs": [],
   "source": [
    "# Reading the puzzle.csv \n",
    "data = pd.read_csv('puzzle.csv', header=None)\n",
    "data = data.rename(columns={0: \"latitude\", 1: 'longitude'})\n",
    "long = data.loc[:,['longitude']].mul(55.22251)\n",
    "lat = data.loc[:,['latitude']].mul(59.28124)"
   ]
  },
  {
   "cell_type": "code",
   "execution_count": 4,
   "metadata": {},
   "outputs": [],
   "source": [
    "# Reading the global-airports.geojson\n",
    "import geopandas\n",
    "airports = geopandas.read_file(open('global-airports.geojson'))"
   ]
  },
  {
   "cell_type": "code",
   "execution_count": 8,
   "metadata": {},
   "outputs": [],
   "source": [
    "# I found another set of data online that contains information on the top 50 most visited airports\n",
    "# on https://data.world/datagov-uk/2ecd2a35-fc85-4cd9-b1e7-3a8f92d76fd7\n",
    "# I can plot the top 50 most visited airports on the plot to check if they are plotted within the boundaries\n",
    "# of the blue datapoints. If they do, my guess that the blue datapoints represent the most visited\n",
    "# international airports may be correct.\n",
    "most_visited = pd.read_excel('largest-global-airports-by-passenger-traffic-1.xls', sheet_name='Total Passengers 2015', header=0)\n",
    "\n",
    "# Renaming one column\n",
    "most_visited.rename(columns={'Code (IATA/ICAO)': \"iata\"}, inplace=True)\n",
    "most_visited = most_visited.iloc[:,[1,2,3,4,5]]"
   ]
  },
  {
   "cell_type": "code",
   "execution_count": 9,
   "metadata": {},
   "outputs": [
    {
     "data": {
      "text/html": [
       "<div>\n",
       "<style scoped>\n",
       "    .dataframe tbody tr th:only-of-type {\n",
       "        vertical-align: middle;\n",
       "    }\n",
       "\n",
       "    .dataframe tbody tr th {\n",
       "        vertical-align: top;\n",
       "    }\n",
       "\n",
       "    .dataframe thead th {\n",
       "        text-align: right;\n",
       "    }\n",
       "</style>\n",
       "<table border=\"1\" class=\"dataframe\">\n",
       "  <thead>\n",
       "    <tr style=\"text-align: right;\">\n",
       "      <th></th>\n",
       "      <th>Airport</th>\n",
       "      <th>Location</th>\n",
       "      <th>Country</th>\n",
       "      <th>iata</th>\n",
       "      <th>Total passengers</th>\n",
       "    </tr>\n",
       "  </thead>\n",
       "  <tbody>\n",
       "    <tr>\n",
       "      <th>0</th>\n",
       "      <td>Hartsfield-Jackson Atlanta International Airport</td>\n",
       "      <td>Atlanta GA</td>\n",
       "      <td>USA</td>\n",
       "      <td>ATL</td>\n",
       "      <td>101491106</td>\n",
       "    </tr>\n",
       "    <tr>\n",
       "      <th>1</th>\n",
       "      <td>Beijing Capital International Airport</td>\n",
       "      <td>Beijing</td>\n",
       "      <td>China (People's Republic of China)</td>\n",
       "      <td>PEK</td>\n",
       "      <td>89938628</td>\n",
       "    </tr>\n",
       "    <tr>\n",
       "      <th>2</th>\n",
       "      <td>Dubai International Airport</td>\n",
       "      <td>Dubai</td>\n",
       "      <td>United Arab Emirates</td>\n",
       "      <td>DXB</td>\n",
       "      <td>78014841</td>\n",
       "    </tr>\n",
       "    <tr>\n",
       "      <th>3</th>\n",
       "      <td>O'Hare International Airport</td>\n",
       "      <td>Chicago IL</td>\n",
       "      <td>USA</td>\n",
       "      <td>ORD</td>\n",
       "      <td>76949504</td>\n",
       "    </tr>\n",
       "    <tr>\n",
       "      <th>4</th>\n",
       "      <td>Tokyo International (Haneda) Airport</td>\n",
       "      <td>Tokyo</td>\n",
       "      <td>Japan</td>\n",
       "      <td>HND</td>\n",
       "      <td>75573106</td>\n",
       "    </tr>\n",
       "  </tbody>\n",
       "</table>\n",
       "</div>"
      ],
      "text/plain": [
       "                                            Airport    Location  \\\n",
       "0  Hartsfield-Jackson Atlanta International Airport  Atlanta GA   \n",
       "1             Beijing Capital International Airport     Beijing   \n",
       "2                       Dubai International Airport       Dubai   \n",
       "3                      O'Hare International Airport  Chicago IL   \n",
       "4              Tokyo International (Haneda) Airport       Tokyo   \n",
       "\n",
       "                              Country iata  Total passengers  \n",
       "0                                 USA  ATL         101491106  \n",
       "1  China (People's Republic of China)  PEK          89938628  \n",
       "2                United Arab Emirates  DXB          78014841  \n",
       "3                                 USA  ORD          76949504  \n",
       "4                               Japan  HND          75573106  "
      ]
     },
     "execution_count": 9,
     "metadata": {},
     "output_type": "execute_result"
    }
   ],
   "source": [
    "# The data is ordered from highest to lowest number of passengers in 2015.\n",
    "most_visited.head()"
   ]
  },
  {
   "cell_type": "code",
   "execution_count": 10,
   "metadata": {},
   "outputs": [
    {
     "name": "stdout",
     "output_type": "stream",
     "text": [
      "<class 'pandas.core.frame.DataFrame'>\n",
      "RangeIndex: 50 entries, 0 to 49\n",
      "Data columns (total 5 columns):\n",
      " #   Column            Non-Null Count  Dtype \n",
      "---  ------            --------------  ----- \n",
      " 0   Airport           50 non-null     object\n",
      " 1   Location          50 non-null     object\n",
      " 2   Country           50 non-null     object\n",
      " 3   iata              50 non-null     object\n",
      " 4   Total passengers  50 non-null     int64 \n",
      "dtypes: int64(1), object(4)\n",
      "memory usage: 2.1+ KB\n"
     ]
    }
   ],
   "source": [
    "# There are no null values\n",
    "most_visited.info()"
   ]
  },
  {
   "cell_type": "code",
   "execution_count": 11,
   "metadata": {},
   "outputs": [],
   "source": [
    "# I can right-join (innerjoin) the 'airports' data to this dataset on the column 'iata' (three letter code of an airport).\n",
    "# I will keep indices and features of the dataset 'most_visited' only.\n",
    "merged = pd.merge(most_visited, right=airports.loc[:,['iata','longitude','latitude']], on='iata', how='left')"
   ]
  },
  {
   "cell_type": "code",
   "execution_count": 14,
   "metadata": {},
   "outputs": [
    {
     "data": {
      "text/html": [
       "<div>\n",
       "<style scoped>\n",
       "    .dataframe tbody tr th:only-of-type {\n",
       "        vertical-align: middle;\n",
       "    }\n",
       "\n",
       "    .dataframe tbody tr th {\n",
       "        vertical-align: top;\n",
       "    }\n",
       "\n",
       "    .dataframe thead th {\n",
       "        text-align: right;\n",
       "    }\n",
       "</style>\n",
       "<table border=\"1\" class=\"dataframe\">\n",
       "  <thead>\n",
       "    <tr style=\"text-align: right;\">\n",
       "      <th></th>\n",
       "      <th>Airport</th>\n",
       "      <th>Location</th>\n",
       "      <th>Country</th>\n",
       "      <th>iata</th>\n",
       "      <th>Total passengers</th>\n",
       "      <th>longitude</th>\n",
       "      <th>latitude</th>\n",
       "    </tr>\n",
       "  </thead>\n",
       "  <tbody>\n",
       "    <tr>\n",
       "      <th>45</th>\n",
       "      <td>Kunming International Airport</td>\n",
       "      <td>Kunming</td>\n",
       "      <td>China (People's Republic of China)</td>\n",
       "      <td>KMG</td>\n",
       "      <td>37523220</td>\n",
       "      <td>NaN</td>\n",
       "      <td>NaN</td>\n",
       "    </tr>\n",
       "    <tr>\n",
       "      <th>46</th>\n",
       "      <td>Newark Liberty International Airport</td>\n",
       "      <td>Newark NJ</td>\n",
       "      <td>USA</td>\n",
       "      <td>EWR</td>\n",
       "      <td>37494704</td>\n",
       "      <td>NaN</td>\n",
       "      <td>NaN</td>\n",
       "    </tr>\n",
       "    <tr>\n",
       "      <th>47</th>\n",
       "      <td>Narita International Airport</td>\n",
       "      <td>Tokyo</td>\n",
       "      <td>Japan</td>\n",
       "      <td>NRT</td>\n",
       "      <td>37268307</td>\n",
       "      <td>140.38639</td>\n",
       "      <td>35.76472</td>\n",
       "    </tr>\n",
       "    <tr>\n",
       "      <th>48</th>\n",
       "      <td>Ninoy Aquino International Airport</td>\n",
       "      <td>Manila</td>\n",
       "      <td>Philippines</td>\n",
       "      <td>MNL</td>\n",
       "      <td>36583459</td>\n",
       "      <td>121.01940</td>\n",
       "      <td>14.50861</td>\n",
       "    </tr>\n",
       "    <tr>\n",
       "      <th>49</th>\n",
       "      <td>Minneapolis/St Paul International Airport</td>\n",
       "      <td>Minneapolis MN</td>\n",
       "      <td>USA</td>\n",
       "      <td>MSP</td>\n",
       "      <td>36582854</td>\n",
       "      <td>NaN</td>\n",
       "      <td>NaN</td>\n",
       "    </tr>\n",
       "  </tbody>\n",
       "</table>\n",
       "</div>"
      ],
      "text/plain": [
       "                                      Airport        Location  \\\n",
       "45              Kunming International Airport         Kunming   \n",
       "46       Newark Liberty International Airport       Newark NJ   \n",
       "47               Narita International Airport           Tokyo   \n",
       "48         Ninoy Aquino International Airport          Manila   \n",
       "49  Minneapolis/St Paul International Airport  Minneapolis MN   \n",
       "\n",
       "                               Country iata  Total passengers  longitude  \\\n",
       "45  China (People's Republic of China)  KMG          37523220        NaN   \n",
       "46                                 USA  EWR          37494704        NaN   \n",
       "47                               Japan  NRT          37268307  140.38639   \n",
       "48                         Philippines  MNL          36583459  121.01940   \n",
       "49                                 USA  MSP          36582854        NaN   \n",
       "\n",
       "    latitude  \n",
       "45       NaN  \n",
       "46       NaN  \n",
       "47  35.76472  \n",
       "48  14.50861  \n",
       "49       NaN  "
      ]
     },
     "execution_count": 14,
     "metadata": {},
     "output_type": "execute_result"
    }
   ],
   "source": [
    "merged.tail()"
   ]
  },
  {
   "cell_type": "code",
   "execution_count": 12,
   "metadata": {},
   "outputs": [
    {
     "name": "stdout",
     "output_type": "stream",
     "text": [
      "<class 'pandas.core.frame.DataFrame'>\n",
      "Int64Index: 50 entries, 0 to 49\n",
      "Data columns (total 7 columns):\n",
      " #   Column            Non-Null Count  Dtype  \n",
      "---  ------            --------------  -----  \n",
      " 0   Airport           50 non-null     object \n",
      " 1   Location          50 non-null     object \n",
      " 2   Country           50 non-null     object \n",
      " 3   iata              50 non-null     object \n",
      " 4   Total passengers  50 non-null     int64  \n",
      " 5   longitude         16 non-null     float64\n",
      " 6   latitude          16 non-null     float64\n",
      "dtypes: float64(2), int64(1), object(4)\n",
      "memory usage: 3.1+ KB\n"
     ]
    }
   ],
   "source": [
    "# There was only 16 airports in 'most_visited' that could find its coordinates in 'airports'.\n",
    "merged.info()"
   ]
  },
  {
   "cell_type": "code",
   "execution_count": 15,
   "metadata": {},
   "outputs": [],
   "source": [
    "# I will add the missing coordinates. The coordinates are again found by googling!\n",
    "missing = merged[merged.longitude.isnull()].index\n",
    "missing_longitude = [-84.4277, 116.6031, 55.3657, -87.9073, -0.4543, -118.4085, 113.9185, 2.5425, -97.0403, 8.5622,\n",
    "    121.8083, 4.7683, -73.7781, 113.3080, -104.6737, 126.4407, 3.5676, -115.1540, -80.9473, -112.0078, -95.3368, -122.3088,\n",
    "    103.9493, -79.6248, 11.7751, 12.2462, -0.1821, 151.1753, -46.4730, 121.3343, 121.2342, 102.9286, -74.1745, -93.2223]\n",
    "missing_latitude = [33.6407, 40.0799, 25.2532, 41.9742, 51.4700, 33.9416, 22.3080, 49.0139, 32.8998, 50.0379, 31.1443, 52.3105,\n",
    "    40.6413, 23.3959, 39.8561, 37.4602, 40.4983, 36.0860, 35.2144, 33.4373, 29.9902, 47.4502, 30.5675, 43.6777, 48.3537,\n",
    "    41.7999, 51.1537, -33.9399, -23.4306, 31.1922, 25.0797, 25.0966, 40.6895, 44.8848]\n",
    "\n",
    "for i in range(0,34):\n",
    "    merged.loc[missing[i],'longitude'] = missing_longitude[i]\n",
    "    merged.loc[missing[i],'latitude'] = missing_latitude[i]"
   ]
  },
  {
   "cell_type": "code",
   "execution_count": 16,
   "metadata": {},
   "outputs": [
    {
     "data": {
      "image/png": "[encoded data removed]",
      "text/plain": [
       "<Figure size 432x288 with 1 Axes>"
      ]
     },
     "metadata": {
      "needs_background": "light"
     },
     "output_type": "display_data"
    }
   ],
   "source": [
    "# Plotting the top 50 most visited airports around the world.\n",
    "# The orange datapoints are plotted within where the blue datapoints are, except one point at approx. [25, 18]\n",
    "# on Northern Africa - investigated below.\n",
    "fig, ax = plt.subplots()\n",
    "ax.scatter(long, lat)\n",
    "ax.scatter(merged.longitude, merged.latitude, color='orange', marker='*')\n",
    "plt.show()"
   ]
  },
  {
   "cell_type": "code",
   "execution_count": 18,
   "metadata": {},
   "outputs": [
    {
     "data": {
      "text/html": [
       "<div>\n",
       "<style scoped>\n",
       "    .dataframe tbody tr th:only-of-type {\n",
       "        vertical-align: middle;\n",
       "    }\n",
       "\n",
       "    .dataframe tbody tr th {\n",
       "        vertical-align: top;\n",
       "    }\n",
       "\n",
       "    .dataframe thead th {\n",
       "        text-align: right;\n",
       "    }\n",
       "</style>\n",
       "<table border=\"1\" class=\"dataframe\">\n",
       "  <thead>\n",
       "    <tr style=\"text-align: right;\">\n",
       "      <th></th>\n",
       "      <th>Airport</th>\n",
       "      <th>Location</th>\n",
       "      <th>Country</th>\n",
       "      <th>iata</th>\n",
       "      <th>Total passengers</th>\n",
       "      <th>longitude</th>\n",
       "      <th>latitude</th>\n",
       "    </tr>\n",
       "  </thead>\n",
       "  <tbody>\n",
       "    <tr>\n",
       "      <th>22</th>\n",
       "      <td>KL International Airport</td>\n",
       "      <td>Kuala Lumpur</td>\n",
       "      <td>Malaysia</td>\n",
       "      <td>KUL</td>\n",
       "      <td>48938424</td>\n",
       "      <td>22.45003</td>\n",
       "      <td>14.37137</td>\n",
       "    </tr>\n",
       "  </tbody>\n",
       "</table>\n",
       "</div>"
      ],
      "text/plain": [
       "                     Airport      Location   Country iata  Total passengers  \\\n",
       "22  KL International Airport  Kuala Lumpur  Malaysia  KUL          48938424   \n",
       "\n",
       "    longitude  latitude  \n",
       "22   22.45003  14.37137  "
      ]
     },
     "execution_count": 18,
     "metadata": {},
     "output_type": "execute_result"
    }
   ],
   "source": [
    "# I investigate the orange datapoint that is not within the blue datapoints\n",
    "investigate = merged[merged.longitude>=20].index.intersection(merged[merged.longitude<=40].index).intersection(\n",
    "    merged[merged.latitude>=10].index.intersection(merged[merged.latitude<=20].index))\n",
    "\n",
    "# Although the orange datapoint seems to be located somewhere in Northern Africa, the data says that it's located in\n",
    "# Kuala Lumpur, Malaysia which should be located in Southern Asia.\n",
    "merged.loc[investigate]"
   ]
  },
  {
   "cell_type": "code",
   "execution_count": 19,
   "metadata": {},
   "outputs": [],
   "source": [
    "# Searching up the coordinate [22.45003, 14.37137] on Google maps, the satellite view shows me a place in the vast desserts\n",
    "# where there are no any types of building. This is likely an erroneous data entry.\n",
    "# I will replace this coordinate for KUL airport with a correct one.\n",
    "# It is important to note that the 'most_visited' dataset may possibly contain other errors and so it is not\n",
    "# a reliable dataset.\n",
    "merged.loc[investigate, 'longitude'] = 101.7051\n",
    "merged.loc[investigate, 'latitude'] = 2.7347"
   ]
  },
  {
   "cell_type": "code",
   "execution_count": 20,
   "metadata": {},
   "outputs": [
    {
     "data": {
      "image/png": "[encoded data removed]",
      "text/plain": [
       "<Figure size 432x288 with 1 Axes>"
      ]
     },
     "metadata": {
      "needs_background": "light"
     },
     "output_type": "display_data"
    }
   ],
   "source": [
    "# Re-plotting, now I see that all the orange datapoints are within the blue datapoints.\n",
    "# The hypothesis that the blue datapoints represent the most visited airports may be correct.\n",
    "fig, ax = plt.subplots()\n",
    "ax.scatter(long, lat)\n",
    "ax.scatter(merged.longitude, merged.latitude, color='orange', marker='*')\n",
    "plt.show()"
   ]
  },
  {
   "cell_type": "code",
   "execution_count": null,
   "metadata": {},
   "outputs": [],
   "source": [
    "# CONCLUSION:\n",
    "# The scatter plot of the top 50 most visited airports are all within the datapoints of the puzzle data. \n",
    "# This means that there is a high chance that the puzzle data represents locations of the most visited airports\n",
    "# around the world. It would be interesting to plot the top 500 or even, top 1000 most visited airports instead of\n",
    "# only top 50."
   ]
  }
 ],
 "metadata": {
  "kernelspec": {
   "display_name": "Python 3",
   "language": "python",
   "name": "python3"
  },
  "language_info": {
   "codemirror_mode": {
    "name": "ipython",
    "version": 3
   },
   "file_extension": ".py",
   "mimetype": "text/x-python",
   "name": "python",
   "nbconvert_exporter": "python",
   "pygments_lexer": "ipython3",
   "version": "3.8.2"
  }
 },
 "nbformat": 4,
 "nbformat_minor": 2
}
