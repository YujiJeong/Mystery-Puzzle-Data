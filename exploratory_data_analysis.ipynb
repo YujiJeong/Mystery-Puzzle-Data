import os
import pandas as pd
import matplotlib.pyplot as plt

cwd = os.getcwd()
if cwd != '/Users/yujijeong/Desktop/GET_A_JOB(DA)/Data_Analyst_(user_acquisition)_HOPPER':
    os.chdir('/Users/yujijeong/Desktop/GET_A_JOB(DA)/Data_Analyst_(user_acquisition)_HOPPER')

# Reading the data file
data = pd.read_csv('puzzle.csv', header=None)




# -----------------------------------------------------------------------------
# -----------------------------------------------------------------------------
# -------------------------- 1. Exploring the data ----------------------------



# The data has two columns and there are no null values - seems like I can jump right into exploratory analysis
data.info()

# I first try plotting the first column as x and the second column as y.
# There seems to be 2 to 3 horizontally long clusters of data.
# Datapoints seem aggregated towards the right bottom of the plot.
plt.scatter(x=data.loc[:,0],y=data.loc[:,1])

# Maybe the first column should be plotted as y and the second as x.
# Now it looks like there are 3 vertically long clusters of data.
# Hmmm. Is it just me or the plot looks almost like the world map?
# Maybe it's a map that shows the locations of airports with most visitors?
# (airports with over a certain number of visitors per year?)
plt.scatter(data.loc[:,1],data.loc[:,0])

# If the plot above is NOT a map, maybe there is a pattern to the distirubtion of data.
# I plot the histogram for each column.
# The first column data looks like a Gompertz law probability density function, often used in actuarial science.
# Most of the data in the first column ranges from 0.3 to 0.7. On the scatter plot, I can see that the datapoints in
# the left vertically long cluster are heavily aggregated from 0.3 to 0.7 on the y-axis.
# If each datapoint is indeed the location of an airport, the dataset may represent a collection of these airports whose
# particular trait is heavily seen in those that are located above the equator (0 latitude)
plt.hist(data.loc[:,0])

# The histogram of the second column data doens't seeem to show us anything particular.
# Most of the data in the second column ranges from -2 and -1 which coincides with the heavily
# aggregated points of the left vertically long cluster on the scatter plot from -2 to -1 on the x-axis.
# If the map hypothesis is correct, the low distirubtion of data ranging from -2.75 to -2.25 and 2.4 to 3.2
# may represent the lack of airports in the Pacific Ocean; -1 to -0.4, the Atlantic Ocean;
# 0.75 to 2, the Indian Ocean.
plt.hist(data.loc[:,1])


# It's interesting that the range of data for both columns centers at 0.
# (The first column data ranges closely from -1 to 1 and the second column data ranges closely from -3 to 3)
# Furthermore, the coordinate [0, 0] on the scatter plot seems to be located where Gulf of Guinea (West Africa) would be.
# Could it be that the two columns are latitude and longitude of a map?
data.describe()

# MY GUESS: The plot shows the international airports around the world with a certain trait - perhaps, most visited or are in urban/tourist areas.

# To check my hypothesis, I will
# 1. re-scale the scatter plot so that real coordinates can be compared to
# 2. qualitatively and quantitatively compare coordinates of airport locations around the world to see how closely they match with the datapoints on the plot

# I also want to explain the scarcity of datapoints in African and Russian regions, which are not as
# aggregated as American or European regions.




# -----------------------------------------------------------------------------
# -----------------------------------------------------------------------------
# -------------------------- 2. Preparing the data ----------------------------

# Let's rename the columns:
data = data.rename(columns={0: "latitude", 1: 'longitude'})

# I'm going to choose a datapoint on the plot located around [-1.3, -0.9] (datapoint with the smallest y value)
# and guess where that would be on a real map. (I chose this point specifically since it was separated from clusters of data
# which may make guessing of its location on the world map easier)
# It seems to be somewhere in Argentia in South America.
# Exploring on Google Maps, it seems to be the location of the Ushuaia Airport in Argentina.

# On latitude.org, Ushuaia Airport has the coordinates [-68.2907, -54.8393]
# Assuming that this southmost point is indeed the location of Ushuaia Airport,
# I'm going to scale the scatter plot based on this coordinate.

# On the scatter plot, the southmost data point has the coordinates:
# x "longitude" is -1.236646 and y "latitude" is -0.92507
data.loc[data.loc[:,'latitude']==min(data.loc[:,'latitude'])]

# Scaling the scatter plot based on this "pivot point", I find the "ratio" between [-1.2366, -0.9251]
# and [-68.2907, -54.8393] which is 55.22251 to 59.28124.
# So I muliply the column 'longitude' by 55.22251 and the column 'latitude' by 59.28124.
long = data.loc[:,['longitude']].mul(55.22251)
lat = data.loc[:,['latitude']].mul(59.28124)

# The plot is slightly more stretched vertically but the location of datapoints, relative to one another,
# seems to be (almost) the same as before it was scaled.
plt.scatter(long, lat)
plt.savefig('scaled_map') # saving the image for quantitative test later on




# -----------------------------------------------------------------------------
# -----------------------------------------------------------------------------
# ----------- 3. Plotting more data and comparing qualitatively ---------------


# I found a dataset online on airports (IATA codes) and their coordinates, on data.world.
# It should be noted that this dataset doesn't contain every airport in the world.
# (For example, there is no information on LAX airport)
# The format of the data is geojson, so I'm importing anothere library to be able to read the data.
import geopandas
airports = geopandas.read_file(open('global-airports.geojson'))

# I'm going to superimpose the coordinates of international airports on the plot.
# If the plot is indeed a map, then I should see the superimposed coordiantes (orange) right on top of the exisiting datapoints (blue).

# As expected, the coordinate of the Ushuaia Airport is superimposed perfectly on top of the blue point
# as it was used to scale this map.
# For the rest of the coordinates, they seem to match fairly well with the blue datapoints.
# From this observation, I'm fairly confident that the dataset represents the locations of airports.
fig, ax = plt.subplots()
ax.scatter(long, lat)
ax.scatter(airports.longitude, airports.latitude, color='orange', marker='*')
plt.show()

# Unlike the blue datapoints, the orange datapoints show a lot of airports in Africa - even in the desserts!
# As expected, I will have to filter the 'airports' data to make less number of orange datapoints visible so that it looks like the blue datapoints.

# The feature 'apttype' tells us which type of structure the airport it is.
airports.apttype.unique()
# The feature 'aptclass' tells us whether it flies internationally or domestically.
airports.aptclass.unique()
# The feature 'status' tells us whether the airport is operating normally or is being built or is restricted.
airports.status.unique()
# The feature 'authority' tells us whether the airport is used for the general public, military or for private cizitens.
airports.authority.unique()

# I will try a few different filterings and compare their plots:
# For the first filtering,
# apttype is 'Airport' or 'Unknown'; aptclass is 'International' or 'Unknown';
# authority is 'Civil', 'Civil Public' or 'Private'; status is 'Open' or 'Unknown'
temp = airports.loc[:,['nameshort','apttype','aptclass','authority','status','latitude','longitude']].dropna()
temp2 = temp[temp.aptclass.str.contains('International|Unknown', case=False)].index
temp3 = temp[temp.apttype.str.contains('Airport|Unknown', case=False)].index
temp4 = temp[temp.status=='Open'].index
temp5 = temp[temp.authority.str.contains('Civil|Unknown', case=False)].index

filtered_airports1 = temp.loc[temp2.intersection(temp3).intersection(temp4).intersection(temp5)]

# For the second filtering, it's the same filtering as above except apttype is 'Airport' and 'Airport' only
temp6 = temp[temp.apttype=='Airport'].index
filtered_airports2 = temp.loc[temp2.intersection(temp6).intersection(temp4).intersection(temp5)]


# Plotting the two filtered data
fig, ax = plt.subplots(2,2, figsize=(14,10))
ax[0,0].scatter(long, lat)
ax[0,0].set_title("Puzzle Dataset")
ax[0,1].scatter(long, lat)
ax[0,1].scatter(airports.longitude, airports.latitude, color='orange', marker='*')
ax[0,1].set_title("All Airports")
ax[1,0].scatter(long, lat)
ax[1,0].scatter(filtered_airports1.longitude, filtered_airports1.latitude, color='orange', marker='*')
ax[1,0].set_title("Filtered Airports 1")
ax[1,1].scatter(long, lat)
ax[1,1].scatter(filtered_airports2.longitude, filtered_airports2.latitude, color='orange', marker='*')
ax[1,1].set_title("Filtered Airports 2")
plt.show()

# The orange datapoints are closely plotted with the blue datapoints. I can see the similar scarcity of datapoints in the
# African region as well as the South American region.
# However, in the North American region, the orange datapoints are not plotted like the blue ones - it's much more scarce.
# Additionally, there are regions where orange datapoints are plotted but the blue datapoints are not - in the South Pacific
# Ocean (left to South America) and in Russia.
# This may indicate that there is another trait that are common to all the blue datapoints, or that the 'airports' data that
# I obtained does not contain information on all the airports around the world.





# -----------------------------------------------------------------------------
# -----------------------------------------------------------------------------
# ------------------ 5. Comparing quantitatively with images ------------------


# Now, I try comparing quantitatively by comparing the images of the plot:

# Saving the image of all datapoints of 'airports'
plt.scatter(airports.longitude, airports.latitude)
plt.savefig('all_airports')
# Saving the image of first filtered datapoints of 'airports'
plt.scatter(filtered_airports1.longitude, filtered_airports1.latitude)
plt.savefig('filtered_airports1')
# Saving the image of second filtered datapoints of 'airports'
plt.scatter(filtered_airports2.longitude, filtered_airports2.latitude)
plt.savefig('filtered_airports2')

# Importing libraries to compare the images of the plots of filtered 'airports' data
from skimage.metrics import structural_similarity as ssim
import cv2

# The image of the Puzzle Data plot
file1 = cv2.imread('scaled_map.png')
# The image of the plot with all datatpoints of 'airports' data
file2 = cv2.imread('all_airports.png')
# The images of filtered data
file3 = cv2.imread('filtered_airports1.png')
file4 = cv2.imread('filtered_airports2.png')

# Converting the images to grayscale
gray1 = cv2.cvtColor(file1, cv2.COLOR_BGR2GRAY)
gray2 = cv2.cvtColor(file2, cv2.COLOR_BGR2GRAY)
gray3 = cv2.cvtColor(file3, cv2.COLOR_BGR2GRAY)
gray4 = cv2.cvtColor(file4, cv2.COLOR_BGR2GRAY)

# The score represents the structural similarity index between two images.
# It ranges from -1 to 1 where either -1 or 1 indicate a perfect image match.
(score1, diff1) = ssim(gray1, gray2, full=True)
(score2, diff2) = ssim(gray1, gray3, full=True)
(score3, diff3) = ssim(gray1, gray4, full=True)

# The image of the second filtered data shows the best match with the Puzzle Data plot.
print([round(score, 4) for score in [score1, score2, score3]])





# -----------------------------------------------------------------------------
# -----------------------------------------------------------------------------
# ------------------------------ 6. One last try! ------------------------------



# I found another set of data online that contains information on the top 50 most visited airports.
# I can plot the top 50 most visited airports on the plot to check if they are plotted within the boundaries
# of the blue datapoints. If they do, my guess that the blue datapoints represent the most visited
# international airports may be correct.
most_visited = pd.read_excel('largest-global-airports-by-passenger-traffic-1.xls', sheet_name='Total Passengers 2015', header=0)

# The data is ordered from highest to lowest number of passengers in 2015.
most_visited.head()

# Renaming one column
most_visited.rename(columns={'Code (IATA/ICAO)': "iata"}, inplace=True)
most_visited = most_visited.iloc[:,[1,2,3,4,5]]

# There are no null values
most_visited.info()


# I can right-join (innerjoin) the 'airports' data to this dataset on the column 'iata' (three letter code of an airport).
# I will keep indices and features of the dataset 'most_visited' only.
merged = pd.merge(most_visited, right=airports.loc[:,['iata','longitude','latitude']], on='iata', how='left')

# There was only 16 airports in 'most_visited' that could find its coordinates in 'airports'.
merged.info()


# I will add the missing coordinates. The coordinates are again found by googling!
missing = merged[merged.longitude.isnull()].index
missing_longitude = [-84.4277, 116.6031, 55.3657, -87.9073, -0.4543, -118.4085, 113.9185, 2.5425, -97.0403, 8.5622,
    121.8083, 4.7683, -73.7781, 113.3080, -104.6737, 126.4407, 3.5676, -115.1540, -80.9473, -112.0078, -95.3368, -122.3088,
    103.9493, -79.6248, 11.7751, 12.2462, -0.1821, 151.1753, -46.4730, 121.3343, 121.2342, 102.9286, -74.1745, -93.2223]
missing_latitude = [33.6407, 40.0799, 25.2532, 41.9742, 51.4700, 33.9416, 22.3080, 49.0139, 32.8998, 50.0379, 31.1443, 52.3105,
    40.6413, 23.3959, 39.8561, 37.4602, 40.4983, 36.0860, 35.2144, 33.4373, 29.9902, 47.4502, 30.5675, 43.6777, 48.3537,
    41.7999, 51.1537, -33.9399, -23.4306, 31.1922, 25.0797, 25.0966, 40.6895, 44.8848]

for i in range(0,34):
    merged.loc[missing[i],'longitude'] = missing_longitude[i]
    merged.loc[missing[i],'latitude'] = missing_latitude[i]


# Plotting the top 50 most visited airports around the world.
# The orange datapoints are plotted within where the blue datapoints are, except one point at approx. [25, 18]
# on Northern Africa - investigated below.
fig, ax = plt.subplots()
ax.scatter(long, lat)
ax.scatter(merged.longitude, merged.latitude, color='orange', marker='*')
plt.show()

# I investigate the orange datapoint that is not within the blue datapoints
investigate = merged[merged.longitude>=20].index.intersection(merged[merged.longitude<=40].index).intersection(
    merged[merged.latitude>=10].index.intersection(merged[merged.latitude<=20].index))

# Although the orange datapoint seems to be located somewhere in Northern Africa, the data says that it's located in
# Kuala Lumpur, Malaysia which should be located in Southern Asia.
merged.loc[investigate]

# Searching up the coordinate [22.45003, 14.37137] on Google maps, the satellite view shows me a place in the vast desserts
# where there are no any types of building. This is likely an erroneous data entry.
# I will replace this coordinate for KUL airport with a correct one.
# It is important to note that the 'most_visited' dataset may possibly contain other errors and so it is not
# a reliable dataset.
merged.loc[investigate, 'longitude'] = 101.7051
merged.loc[investigate, 'latitude'] = 2.7347

# Re-plotting, now I see that all the orange datapoints are within the blue datapoints.
# The hypothesis that the blue datapoints represent the most visited airports may be correct.
fig, ax = plt.subplots()
ax.scatter(long, lat)
ax.scatter(merged.longitude, merged.latitude, color='orange', marker='*')
plt.show()





# -----------------------------------------------------------------------------
# -----------------------------------------------------------------------------
# ------------------------------ 7. Conclusion ------------------------------

# The two plots of the filtered 'airports' data are similar to the Puzzle Data plot.
# Depending on the way data is filtered, the resulting plot looked significantly different.
# From my exploratory analysis, I am fairly confident that the Puzzle Data represents
# the locations of the most visited international airports around the world.

# It would have been better to plot the top 1000 (same as the number of blue datapoints in the Puzzle Data) most visited airports to make
# a better comparison. If the blue datapoints represent the most visited international airports, then the 1000 orange datapoints
# would be precisely superimposed on the blue datapoints.
# Unfortunately, I could only find the dataset with the top 50 visited airports.

# My other hypothesis is that the Puzzle Data represents the most frequent arrival locations for travellers from
# the American region, since the American region is the most densenly plotted region in the map and it is highly likely that American
# travellers travel more domestically than internationally.
# More precisely, the Puzzle Data may represent the most frequent arrival locations for the Hopper app users
# who are mostly from the American region where the app is heavily marketed.
